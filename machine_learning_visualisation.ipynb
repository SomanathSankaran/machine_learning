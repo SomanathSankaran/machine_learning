{
  "nbformat": 4,
  "nbformat_minor": 0,
  "metadata": {
    "colab": {
      "name": "machine_learning_visualisation.ipynb",
      "provenance": [],
      "include_colab_link": true
    },
    "kernelspec": {
      "name": "python2",
      "display_name": "Python 2"
    }
  },
  "cells": [
    {
      "cell_type": "markdown",
      "metadata": {
        "id": "view-in-github",
        "colab_type": "text"
      },
      "source": [
        "<a href=\"https://colab.research.google.com/github/SomanathSankaran/machine_learning/blob/master/machine_learning_visualisation.ipynb\" target=\"_parent\"><img src=\"https://colab.research.google.com/assets/colab-badge.svg\" alt=\"Open In Colab\"/></a>"
      ]
    },
    {
      "cell_type": "code",
      "metadata": {
        "id": "bOPHZ0MXIji4",
        "colab_type": "code",
        "colab": {}
      },
      "source": [
        "from matplotlib import pyplot as plt\n",
        "ht=[x*10 for x in range(10)]\n",
        "wt=[x*.5 for x in ht]"
      ],
      "execution_count": 0,
      "outputs": []
    },
    {
      "cell_type": "code",
      "metadata": {
        "id": "exACPodjJJKk",
        "colab_type": "code",
        "colab": {
          "base_uri": "https://localhost:8080/",
          "height": 312
        },
        "outputId": "cb00ca2a-9994-4bed-825a-b9ccf1c27eb3"
      },
      "source": [
        "plt.plot(ht,wt,color='orange', marker='*', linestyle='--')\n",
        "plt.title(\"linear graph\")\n",
        "plt.xlabel(\"ht\")\n",
        "plt.ylabel(\"wt\")"
      ],
      "execution_count": 19,
      "outputs": [
        {
          "output_type": "execute_result",
          "data": {
            "text/plain": [
              "Text(0,0.5,'wt')"
            ]
          },
          "metadata": {
            "tags": []
          },
          "execution_count": 19
        },
        {
          "output_type": "display_data",
          "data": {
            "image/png": "[encoded data removed]",
            "text/plain": [
              "<Figure size 432x288 with 1 Axes>"
            ]
          },
          "metadata": {
            "tags": []
          }
        }
      ]
    },
    {
      "cell_type": "code",
      "metadata": {
        "id": "GOj6b-ciJQpN",
        "colab_type": "code",
        "colab": {}
      },
      "source": [
        "#bar graph of my favourite cricket players\n",
        "player_dict={'SR Tendulkar':18426 \t,\n",
        "'V Kohli':11520 \t,\n",
        "'SC Ganguly':11221 \t,\n",
        "'R Dravid':10768 \t\n",
        "'MS Dhoni':10599}\n"
      ],
      "execution_count": 0,
      "outputs": []
    },
    {
      "cell_type": "code",
      "metadata": {
        "id": "BYSlu6_kMNTE",
        "colab_type": "code",
        "colab": {
          "base_uri": "https://localhost:8080/",
          "height": 298
        },
        "outputId": "e8cf4493-b05f-439f-c99e-06010a8320ed"
      },
      "source": [
        "plt.bar(player_dict.keys(),player_dict.values())\n",
        "#plt.bar(xs,player_dict.values())\n",
        "plt.title(\"ODI runs\")\n",
        "plt.ylabel(\"runs\")"
      ],
      "execution_count": 38,
      "outputs": [
        {
          "output_type": "execute_result",
          "data": {
            "text/plain": [
              "Text(0,0.5,'runs')"
            ]
          },
          "metadata": {
            "tags": []
          },
          "execution_count": 38
        },
        {
          "output_type": "display_data",
          "data": {
            "image/png": "[encoded data removed]",
            "text/plain": [
              "<Figure size 432x288 with 1 Axes>"
            ]
          },
          "metadata": {
            "tags": []
          }
        }
      ]
    },
    {
      "cell_type": "code",
      "metadata": {
        "id": "C-cad9UJQyjX",
        "colab_type": "code",
        "colab": {}
      },
      "source": [
        "#multiple line plot"
      ],
      "execution_count": 0,
      "outputs": []
    },
    {
      "cell_type": "code",
      "metadata": {
        "id": "X71YIbR4Wir0",
        "colab_type": "code",
        "colab": {
          "base_uri": "https://localhost:8080/",
          "height": 286
        },
        "outputId": "d0368bb7-4457-4f6e-e828-f78cb083b6d4"
      },
      "source": [
        "a=[x for x in range(-5,5)]\n",
        "\n",
        "b=[x**2 for x in range(5,-5,-1)]\n",
        "c=[x+2 for x in range(5,-5,-1)]\n",
        "#print a,b,c\n",
        "x_axis=[x for x in range(1,11)]\n",
        "plt.plot(x_axis,a,'r--',label=\"a\")\n",
        "plt.plot(x_axis,b,'b-.',label=\"b\")\n",
        "plt.plot(x_axis,c,'g-',label=\"c\")\n",
        "plt.legend(loc=0)"
      ],
      "execution_count": 58,
      "outputs": [
        {
          "output_type": "execute_result",
          "data": {
            "text/plain": [
              "<matplotlib.legend.Legend at 0x7fc75574b6d0>"
            ]
          },
          "metadata": {
            "tags": []
          },
          "execution_count": 58
        },
        {
          "output_type": "display_data",
          "data": {
            "image/png": "[encoded data removed]",
            "text/plain": [
              "<Figure size 432x288 with 1 Axes>"
            ]
          },
          "metadata": {
            "tags": []
          }
        }
      ]
    },
    {
      "cell_type": "code",
      "metadata": {
        "id": "eA1AsxmVXZrX",
        "colab_type": "code",
        "colab": {
          "base_uri": "https://localhost:8080/",
          "height": 286
        },
        "outputId": "49269b6d-5f11-4ebc-e2c1-ba229dbe4c31"
      },
      "source": [
        "plt.scatter(a,c)\n"
      ],
      "execution_count": 77,
      "outputs": [
        {
          "output_type": "execute_result",
          "data": {
            "text/plain": [
              "<matplotlib.collections.PathCollection at 0x7fc755647290>"
            ]
          },
          "metadata": {
            "tags": []
          },
          "execution_count": 77
        },
        {
          "output_type": "display_data",
          "data": {
            "image/png": "[encoded data removed]",
            "text/plain": [
              "<Figure size 432x288 with 1 Axes>"
            ]
          },
          "metadata": {
            "tags": []
          }
        }
      ]
    },
    {
      "cell_type": "code",
      "metadata": {
        "id": "QEHLS8fiY4Gq",
        "colab_type": "code",
        "colab": {}
      },
      "source": [
        ""
      ],
      "execution_count": 0,
      "outputs": []
    }
  ]
}